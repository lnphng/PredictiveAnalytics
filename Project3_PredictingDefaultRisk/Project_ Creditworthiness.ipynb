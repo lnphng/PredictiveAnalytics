{
 "cells": [
  {
   "cell_type": "markdown",
   "metadata": {
    "hideCode": true,
    "hidePrompt": true,
    "slideshow": {
     "slide_type": "slide"
    }
   },
   "source": [
    "\n",
    "\n",
    "<h1><center> Project 4: Predicting Default Risk </center></h1>\n",
    "\n",
    " ###  Structure of Report\n",
    "<ol>\n",
    "<li><a href=\"#intro\">Business and Data Understanding</a></li>\n",
    "      &nbsp; &emsp; <a href=\"#1\"> a. Goal of project </a>\n",
    "  <br>&nbsp; &emsp; <a href=\"#2\">b. Dataset overview </a>\n",
    "  <br>&nbsp; &emsp; <a href=\"#3\">b. Key decision </a>\n",
    "<li><a href=\"#wrangling\">Building the Training Set</a></li>\n",
    "<li><a href=\"#eda\">Train your Classification Models</a></li>\n",
    "      &nbsp; &emsp; <a href=\"#eda\">a. Logistic Regression </a>\n",
    "  <br>&nbsp; &emsp; <a href=\"#8\">b. Boosted Model </a>\n",
    "  <br>&nbsp; &emsp; <a href=\"#9\">c. Decision Tree </a>\n",
    "  <br>&nbsp; &emsp; <a href=\"#10\">d. Forest Tree </a>\n",
    " <li><a href=\"#conclusions\">Conclusions</a></li>\n",
    "  &nbsp; &emsp; <a href=\"#11\">a. Choosing Model </a>\n",
    "  <br>&nbsp; &emsp; <a href=\"#12\">b. Prediction of Application Result </a>"
   ]
  },
  {
   "cell_type": "markdown",
   "metadata": {
    "hideCode": true,
    "hidePrompt": true
   },
   "source": [
    "<a id='intro'></a>\n",
    "## 1. Business and Data Understanding\n",
    "<a id='1'></a>\n",
    "#### a. Goal of project\n",
    "\n",
    "- As loans officers at a young and small bank, we need to come up with an efficient solution to classify new customers on whether they can be approved for a loan or not. Using a series of classification models to figure out the best model and provide a list of creditworthy customers to the manager.\n",
    "- Typycally getting 200 loan applications per week and approves them by hand, but now suddenly nearly 500 loan applications to process this week. This is a great opportunity and but needs to figure out how to process all of these loan applications within one week.\n",
    "- For this project, you will analyze the business problem using the Problem Solving Framework and provide a list of creditworthy customers to your manager in the next two days.\n",
    "\n",
    "<a id='2'></a>\n",
    "#### b. Datasets overview\n",
    "- `credit-data-training.xlsx` - This file contains all credit approvals from your past loan applicants the bank has ever completed [Datenbanken].\n",
    "\n",
    "- `customers-to-score.xlsx` - This is the new set of customers that needed to score on the classification model.\n",
    "\n",
    "<a id='3'></a>\n",
    "#### c. Key Decisions:\n",
    "-\tWhat decisions needs to be made?\n",
    "> which application of new customers will be set as creditworthy and which will not.\n",
    "-\tWhat data is needed to inform those decisions?\n",
    "> All the data involves with applications need to be taken in to consider such as :`Account-Balance`, `Duration-of-Credit-Month`,\n",
    "       `Payment-Status-of-Previous-Credit`, `Purpose`, `Credit-Amount`,\n",
    "       `Value-Savings-Stocks`, `Length-of-current-employment`,\n",
    "       `Instalment-per-cent`, `Guarantors`, `Most-valuable-available-asset`, `Age-years`, `Concurrent-Credits`,\n",
    "       `Type-of-apartment`, `No-of-Credits-at-this-Bank`, `Occupation`,\n",
    "       `No-of-dependents`, `Telephone`, `Foreign-Worker`\n",
    "-  What kind of model (Continuous, Binary, Non-Binary, Time-Series) need to be used to help make these decisions?\n",
    "> We need to consider the models following to make decision\n",
    "    - Logistic Regression with Stepweise\n",
    "    - Boosted Model\n",
    "    - Decision Tree\n",
    "    - Forest Tree"
   ]
  },
  {
   "cell_type": "markdown",
   "metadata": {
    "hideCode": true,
    "hidePrompt": true
   },
   "source": [
    "<a id='wrangling'></a> \n",
    "## 2. Building the Training Set\n",
    "#### Dataset 1 `credit-data-training.xlsx`: \n",
    "The data set contains the data from the previous application. With this data, we create a model that is used to classify whether the applications from new customers are creditworthy or not."
   ]
  },
  {
   "cell_type": "code",
   "execution_count": 23,
   "metadata": {
    "hideCode": true,
    "hidePrompt": true
   },
   "outputs": [
    {
     "data": {
      "text/html": [
       "<div>\n",
       "<style scoped>\n",
       "    .dataframe tbody tr th:only-of-type {\n",
       "        vertical-align: middle;\n",
       "    }\n",
       "\n",
       "    .dataframe tbody tr th {\n",
       "        vertical-align: top;\n",
       "    }\n",
       "\n",
       "    .dataframe thead th {\n",
       "        text-align: right;\n",
       "    }\n",
       "</style>\n",
       "<table border=\"1\" class=\"dataframe\">\n",
       "  <thead>\n",
       "    <tr style=\"text-align: right;\">\n",
       "      <th></th>\n",
       "      <th>Credit-Application-Result</th>\n",
       "      <th>Account-Balance</th>\n",
       "      <th>Duration-of-Credit-Month</th>\n",
       "      <th>Payment-Status-of-Previous-Credit</th>\n",
       "      <th>Purpose</th>\n",
       "      <th>Credit-Amount</th>\n",
       "      <th>Value-Savings-Stocks</th>\n",
       "      <th>Length-of-current-employment</th>\n",
       "      <th>Instalment-per-cent</th>\n",
       "      <th>Guarantors</th>\n",
       "      <th>Duration-in-Current-address</th>\n",
       "      <th>Most-valuable-available-asset</th>\n",
       "      <th>Age-years</th>\n",
       "      <th>Concurrent-Credits</th>\n",
       "      <th>Type-of-apartment</th>\n",
       "      <th>No-of-Credits-at-this-Bank</th>\n",
       "      <th>Occupation</th>\n",
       "      <th>No-of-dependents</th>\n",
       "      <th>Telephone</th>\n",
       "      <th>Foreign-Worker</th>\n",
       "    </tr>\n",
       "  </thead>\n",
       "  <tbody>\n",
       "    <tr>\n",
       "      <th>0</th>\n",
       "      <td>Creditworthy</td>\n",
       "      <td>Some Balance</td>\n",
       "      <td>4</td>\n",
       "      <td>Paid Up</td>\n",
       "      <td>Other</td>\n",
       "      <td>1494</td>\n",
       "      <td>£100-£1000</td>\n",
       "      <td>&lt; 1yr</td>\n",
       "      <td>1</td>\n",
       "      <td>None</td>\n",
       "      <td>2.0</td>\n",
       "      <td>1</td>\n",
       "      <td>NaN</td>\n",
       "      <td>Other Banks/Depts</td>\n",
       "      <td>2</td>\n",
       "      <td>1</td>\n",
       "      <td>1</td>\n",
       "      <td>2</td>\n",
       "      <td>1</td>\n",
       "      <td>2</td>\n",
       "    </tr>\n",
       "    <tr>\n",
       "      <th>1</th>\n",
       "      <td>Creditworthy</td>\n",
       "      <td>Some Balance</td>\n",
       "      <td>4</td>\n",
       "      <td>Paid Up</td>\n",
       "      <td>Home Related</td>\n",
       "      <td>1494</td>\n",
       "      <td>£100-£1000</td>\n",
       "      <td>&lt; 1yr</td>\n",
       "      <td>1</td>\n",
       "      <td>None</td>\n",
       "      <td>2.0</td>\n",
       "      <td>1</td>\n",
       "      <td>29.0</td>\n",
       "      <td>Other Banks/Depts</td>\n",
       "      <td>2</td>\n",
       "      <td>1</td>\n",
       "      <td>1</td>\n",
       "      <td>2</td>\n",
       "      <td>1</td>\n",
       "      <td>2</td>\n",
       "    </tr>\n",
       "    <tr>\n",
       "      <th>2</th>\n",
       "      <td>Creditworthy</td>\n",
       "      <td>Some Balance</td>\n",
       "      <td>4</td>\n",
       "      <td>No Problems (in this bank)</td>\n",
       "      <td>Home Related</td>\n",
       "      <td>1544</td>\n",
       "      <td>None</td>\n",
       "      <td>1-4 yrs</td>\n",
       "      <td>2</td>\n",
       "      <td>None</td>\n",
       "      <td>1.0</td>\n",
       "      <td>1</td>\n",
       "      <td>42.0</td>\n",
       "      <td>Other Banks/Depts</td>\n",
       "      <td>2</td>\n",
       "      <td>More than 1</td>\n",
       "      <td>1</td>\n",
       "      <td>2</td>\n",
       "      <td>1</td>\n",
       "      <td>1</td>\n",
       "    </tr>\n",
       "  </tbody>\n",
       "</table>\n",
       "</div>"
      ],
      "text/plain": [
       "  Credit-Application-Result Account-Balance  Duration-of-Credit-Month  \\\n",
       "0              Creditworthy    Some Balance                         4   \n",
       "1              Creditworthy    Some Balance                         4   \n",
       "2              Creditworthy    Some Balance                         4   \n",
       "\n",
       "  Payment-Status-of-Previous-Credit       Purpose  Credit-Amount  \\\n",
       "0                           Paid Up         Other           1494   \n",
       "1                           Paid Up  Home Related           1494   \n",
       "2        No Problems (in this bank)  Home Related           1544   \n",
       "\n",
       "  Value-Savings-Stocks Length-of-current-employment  Instalment-per-cent  \\\n",
       "0           £100-£1000                        < 1yr                    1   \n",
       "1           £100-£1000                        < 1yr                    1   \n",
       "2                 None                      1-4 yrs                    2   \n",
       "\n",
       "  Guarantors  Duration-in-Current-address  Most-valuable-available-asset  \\\n",
       "0       None                          2.0                              1   \n",
       "1       None                          2.0                              1   \n",
       "2       None                          1.0                              1   \n",
       "\n",
       "   Age-years Concurrent-Credits  Type-of-apartment No-of-Credits-at-this-Bank  \\\n",
       "0        NaN  Other Banks/Depts                  2                          1   \n",
       "1       29.0  Other Banks/Depts                  2                          1   \n",
       "2       42.0  Other Banks/Depts                  2                More than 1   \n",
       "\n",
       "   Occupation  No-of-dependents  Telephone  Foreign-Worker  \n",
       "0           1                 2          1               2  \n",
       "1           1                 2          1               2  \n",
       "2           1                 2          1               1  "
      ]
     },
     "execution_count": 23,
     "metadata": {},
     "output_type": "execute_result"
    }
   ],
   "source": [
    "df2 = pd.read_excel('credit-data-training.xlsx', sheet_name='Sheet1')\n",
    "df2.head(3)"
   ]
  },
  {
   "attachments": {},
   "cell_type": "markdown",
   "metadata": {
    "hideCode": true,
    "hidePrompt": true
   },
   "source": [
    "At first we will have an overview about the summary of data in this dataset. Here we can see that, the given dataset had information of 500 customers. \n",
    "![image/SummaryField.PNG](image/SummaryField.PNG)"
   ]
  },
  {
   "cell_type": "markdown",
   "metadata": {
    "hideCode": true,
    "hidePrompt": true
   },
   "source": [
    "With the summary of all data, it is clear to see that a 69% data of `Duration-in-Current-address` is missing. So we cannot consider this variable to model the classification for the creditworthness of applications. This variable will be removed from the dataset. \n",
    "\n",
    "Another variable also missing is Age-years with around 2% missing. With a small missing data. For these data, we can generate the missing data with a predicted model, but to keep the problem not so complicatedm  we can impute this missing data with mean of data `Age-years`. "
   ]
  },
  {
   "cell_type": "markdown",
   "metadata": {
    "hideCode": true,
    "hidePrompt": true
   },
   "source": [
    "#### Preparing Data to Modelling:\n",
    "We split the data set into two parts:  70% for Estimation (for training the model) and 30% for Validation to help us verify that we are creating a useful model."
   ]
  },
  {
   "cell_type": "markdown",
   "metadata": {
    "hideCode": true,
    "hidePrompt": true
   },
   "source": [
    "####  Dataset 2 `customers-to-score.xlsx`:\n",
    "The dataset 2 includes information about the new customers. From this dataset, we will classify their credit applications with the help of prediction model into 2 type: `creditworthy` or `non-creditworthy`"
   ]
  },
  {
   "cell_type": "code",
   "execution_count": 18,
   "metadata": {
    "hideCode": true,
    "hidePrompt": true,
    "scrolled": true
   },
   "outputs": [
    {
     "data": {
      "text/html": [
       "<div>\n",
       "<style scoped>\n",
       "    .dataframe tbody tr th:only-of-type {\n",
       "        vertical-align: middle;\n",
       "    }\n",
       "\n",
       "    .dataframe tbody tr th {\n",
       "        vertical-align: top;\n",
       "    }\n",
       "\n",
       "    .dataframe thead th {\n",
       "        text-align: right;\n",
       "    }\n",
       "</style>\n",
       "<table border=\"1\" class=\"dataframe\">\n",
       "  <thead>\n",
       "    <tr style=\"text-align: right;\">\n",
       "      <th></th>\n",
       "      <th>Account-Balance</th>\n",
       "      <th>Duration-of-Credit-Month</th>\n",
       "      <th>Payment-Status-of-Previous-Credit</th>\n",
       "      <th>Purpose</th>\n",
       "      <th>Credit-Amount</th>\n",
       "      <th>Value-Savings-Stocks</th>\n",
       "      <th>Length-of-current-employment</th>\n",
       "      <th>Instalment-per-cent</th>\n",
       "      <th>Guarantors</th>\n",
       "      <th>Duration-in-Current-address</th>\n",
       "      <th>Most-valuable-available-asset</th>\n",
       "      <th>Age-years</th>\n",
       "      <th>Concurrent-Credits</th>\n",
       "      <th>Type-of-apartment</th>\n",
       "      <th>No-of-Credits-at-this-Bank</th>\n",
       "      <th>Occupation</th>\n",
       "      <th>No-of-dependents</th>\n",
       "      <th>Telephone</th>\n",
       "      <th>Foreign-Worker</th>\n",
       "    </tr>\n",
       "  </thead>\n",
       "  <tbody>\n",
       "    <tr>\n",
       "      <th>0</th>\n",
       "      <td>No Account</td>\n",
       "      <td>9</td>\n",
       "      <td>No Problems (in this bank)</td>\n",
       "      <td>Home Related</td>\n",
       "      <td>2799</td>\n",
       "      <td>None</td>\n",
       "      <td>&lt; 1yr</td>\n",
       "      <td>2</td>\n",
       "      <td>None</td>\n",
       "      <td>2</td>\n",
       "      <td>1</td>\n",
       "      <td>36</td>\n",
       "      <td>Other Banks/Depts</td>\n",
       "      <td>1</td>\n",
       "      <td>More than 1</td>\n",
       "      <td>1</td>\n",
       "      <td>2</td>\n",
       "      <td>1</td>\n",
       "      <td>1</td>\n",
       "    </tr>\n",
       "    <tr>\n",
       "      <th>1</th>\n",
       "      <td>No Account</td>\n",
       "      <td>12</td>\n",
       "      <td>No Problems (in this bank)</td>\n",
       "      <td>Home Related</td>\n",
       "      <td>2122</td>\n",
       "      <td>None</td>\n",
       "      <td>&lt; 1yr</td>\n",
       "      <td>3</td>\n",
       "      <td>None</td>\n",
       "      <td>2</td>\n",
       "      <td>1</td>\n",
       "      <td>39</td>\n",
       "      <td>Other Banks/Depts</td>\n",
       "      <td>1</td>\n",
       "      <td>More than 1</td>\n",
       "      <td>1</td>\n",
       "      <td>2</td>\n",
       "      <td>1</td>\n",
       "      <td>2</td>\n",
       "    </tr>\n",
       "    <tr>\n",
       "      <th>2</th>\n",
       "      <td>No Account</td>\n",
       "      <td>24</td>\n",
       "      <td>Paid Up</td>\n",
       "      <td>Home Related</td>\n",
       "      <td>3758</td>\n",
       "      <td>£100-£1000</td>\n",
       "      <td>&lt; 1yr</td>\n",
       "      <td>1</td>\n",
       "      <td>None</td>\n",
       "      <td>4</td>\n",
       "      <td>4</td>\n",
       "      <td>23</td>\n",
       "      <td>Other Banks/Depts</td>\n",
       "      <td>1</td>\n",
       "      <td>1</td>\n",
       "      <td>1</td>\n",
       "      <td>1</td>\n",
       "      <td>1</td>\n",
       "      <td>1</td>\n",
       "    </tr>\n",
       "  </tbody>\n",
       "</table>\n",
       "</div>"
      ],
      "text/plain": [
       "  Account-Balance  Duration-of-Credit-Month Payment-Status-of-Previous-Credit  \\\n",
       "0      No Account                         9        No Problems (in this bank)   \n",
       "1      No Account                        12        No Problems (in this bank)   \n",
       "2      No Account                        24                           Paid Up   \n",
       "\n",
       "        Purpose  Credit-Amount Value-Savings-Stocks  \\\n",
       "0  Home Related           2799                 None   \n",
       "1  Home Related           2122                 None   \n",
       "2  Home Related           3758           £100-£1000   \n",
       "\n",
       "  Length-of-current-employment  Instalment-per-cent Guarantors  \\\n",
       "0                        < 1yr                    2       None   \n",
       "1                        < 1yr                    3       None   \n",
       "2                        < 1yr                    1       None   \n",
       "\n",
       "   Duration-in-Current-address  Most-valuable-available-asset  Age-years  \\\n",
       "0                            2                              1         36   \n",
       "1                            2                              1         39   \n",
       "2                            4                              4         23   \n",
       "\n",
       "  Concurrent-Credits  Type-of-apartment No-of-Credits-at-this-Bank  \\\n",
       "0  Other Banks/Depts                  1                More than 1   \n",
       "1  Other Banks/Depts                  1                More than 1   \n",
       "2  Other Banks/Depts                  1                          1   \n",
       "\n",
       "   Occupation  No-of-dependents  Telephone  Foreign-Worker  \n",
       "0           1                 2          1               1  \n",
       "1           1                 2          1               2  \n",
       "2           1                 1          1               1  "
      ]
     },
     "execution_count": 18,
     "metadata": {},
     "output_type": "execute_result"
    }
   ],
   "source": [
    "df2 = pd.read_excel('customers-to-score.xlsx', sheet_name='Sheet1')\n",
    "df2.head(3)"
   ]
  },
  {
   "cell_type": "markdown",
   "metadata": {
    "hideCode": true,
    "hidePrompt": true
   },
   "source": [
    "<a id='eda'></a>\n",
    "## 3. Train your Classification Models\n",
    "### a. Logistic Regression\n",
    "#### Data Analysis\n",
    "At first we will use Logistic Regression to predict the binary outcome `Credit-Application-Result` by analyzing the `Credit-Application-Result`'s relationship with other predictor variables. The `pairplot` gives us an overview about the relationship between `Credit-Application-Result` and other variables from information of presious customers.\n",
    "<center> Relationship between Application Result and information of customers  </center>"
   ]
  },
  {
   "cell_type": "code",
   "execution_count": 40,
   "metadata": {
    "hideCode": true,
    "hidePrompt": true
   },
   "outputs": [
    {
     "data": {
      "image/png": "[encoded data removed]",
      "text/plain": [
       "<Figure size 720x180 with 4 Axes>"
      ]
     },
     "metadata": {
      "needs_background": "light"
     },
     "output_type": "display_data"
    },
    {
     "data": {
      "image/png": "[encoded data removed]",
      "text/plain": [
       "<Figure size 720x180 with 4 Axes>"
      ]
     },
     "metadata": {
      "needs_background": "light"
     },
     "output_type": "display_data"
    }
   ],
   "source": [
    "a=sns.pairplot(df1, x_vars=['Duration-of-Credit-Month',  'Age_years','Instalment-per-cent','Most-valuable-available-asset', ], y_vars='Credit-Amount',kind='reg') \n",
    "a=sns.pairplot(df1, x_vars=['No-of-dependents','Type-of-apartment','Occupation','Foreign-Worker',], y_vars='Credit-Amount',kind='reg') "
   ]
  },
  {
   "attachments": {},
   "cell_type": "markdown",
   "metadata": {
    "hideCode": true,
    "hidePrompt": true
   },
   "source": [
    "With the Person correlation we can see the most influencing factors on `Credit-Application-Result`with 3 statistically significant factors.\n",
    "![image/Person%20Correlation.PNG](image/Person%20Correlation.PNG)"
   ]
  },
  {
   "cell_type": "markdown",
   "metadata": {
    "hideCode": true,
    "hidePrompt": true
   },
   "source": [
    "To ensure that all factors are not duplicated we can see the correlation matrix, which shows us a weak relationship between variables (all correlations are smaller than 0.7). So all variables can be used as predictor variables in Logistic Regression."
   ]
  },
  {
   "cell_type": "code",
   "execution_count": 24,
   "metadata": {
    "hideCode": true,
    "hidePrompt": true,
    "scrolled": false
   },
   "outputs": [
    {
     "data": {
      "image/png": "[encoded data removed]",
      "text/plain": [
       "<Figure size 720x360 with 2 Axes>"
      ]
     },
     "metadata": {
      "needs_background": "light"
     },
     "output_type": "display_data"
    }
   ],
   "source": [
    "df1=pd.read_excel('Data2.xlsx', sheet_name='Sheet1')\n",
    "corr=df1.corr()\n",
    "ig, ax = plt.subplots(figsize=(10,5))\n",
    "cmap=sns.diverging_palette(250, 5,n=50, as_cmap=True)\n",
    "ax = sns.heatmap( corr, cmap=cmap, annot=True,vmin= -0.2, vmax=1, center=0)\n",
    "ax.set_xticklabels( ax.get_xticklabels(),  rotation=45, horizontalalignment='right');"
   ]
  },
  {
   "attachments": {},
   "cell_type": "markdown",
   "metadata": {
    "hideCode": true,
    "hidePrompt": true
   },
   "source": [
    "#### Data Modelling\n",
    "After that we run the Logistic Regression model with the target variables `Credit-Application-Result` and predictor variables. \n",
    "Using a technique `Stepwise regression`, we can get automatically the best predictor variables.\n",
    "\n",
    "![image/LogReg.PNG](image/LogReg.PNG)\n",
    "![image/LogReg3.PNG](image/LogReg3.PNG)\n",
    "\n",
    "Observe the report of Logistic Model, we can see the relationship between the target and predictor variable ( with `p_value` < 0.05 then predictor variable is statistically significant). \n",
    "Another factor is that for this model `R-squared = 0.2048` which present a quite weak model."
   ]
  },
  {
   "attachments": {},
   "cell_type": "markdown",
   "metadata": {
    "hideCode": true,
    "hidePrompt": true
   },
   "source": [
    "#### Validation \n",
    "![image/LogCompare1.PNG](image/LogCompare1.PNG)\n",
    "![image/LogCompare2.PNG](image/LogCompare2.PNG)\n",
    "\n",
    "With the support of `Model Comparision`, we can see that the Accuracy of `Logistic Regression` for this prediction is 76% with 87,67% accuracy for Creditworthy but only 48.89% for Non-Creditworth."
   ]
  },
  {
   "attachments": {},
   "cell_type": "markdown",
   "metadata": {
    "hideCode": true,
    "hideOutput": true,
    "hidePrompt": true
   },
   "source": [
    "<a id='8'></a> \n",
    "### b. Boosted Model\n",
    "With Boosted Model, a machine learning technique for regression and classification problems, we can get the best predictor variables to predict `Credit-Application-Result`. With the Variable Importance Plot we can see that with this model, `Account Balance`, and `Credit-Amount` are 2 most important factors to predict the result of application for credit. Next one are `Duration-of-Credit-Month`, `Purpost` and `Payment-Status-of-Previous-Credit`. \n",
    "\n",
    "![image/Boosted1.PNG](image/Boosted1.PNG)"
   ]
  },
  {
   "attachments": {},
   "cell_type": "markdown",
   "metadata": {
    "hideCode": true,
    "hidePrompt": true
   },
   "source": [
    "#### Data Validation\n",
    "To validate this Model we use `Comparison Method` to test the validation of the model:\n",
    "![image/Boosted3.PNG](image/Boosted3.PNG)\n",
    "![image/Boosted4.PNG](image/Boosted4.PNG)\n",
    "\n",
    "With the Model `Comparison Report`, the general accurancy of `Boosted Model` makes up 78.67% with 96.19% accuracy to predict Creditworthy, but only 37.78% for Non-Creditworthy."
   ]
  },
  {
   "attachments": {},
   "cell_type": "markdown",
   "metadata": {
    "hideCode": true,
    "hidePrompt": true
   },
   "source": [
    "<a id='9'></a> \n",
    "### c. Decision Tree\n",
    "Decision tree Model is used in a predictive model to go from observations about the predictor variable to conclusions about the target variable. To predict `Credit-Application-Result`, the Decision Tree Model always choose to use the best predictor variables.\n",
    "\n",
    "The Model Summary shows that variables used in tree construction are `Account-Balance`, `Value-Savings-Stocks`, and `Duration-of-Credit-Month`. \n",
    "\n",
    "![image/DecisionTree1.PNG](image/DecisionTree1.PNG)"
   ]
  },
  {
   "attachments": {},
   "cell_type": "markdown",
   "metadata": {},
   "source": [
    "![image/DecisionTree11.PNG](image/DecisionTree11.PNG)"
   ]
  },
  {
   "attachments": {},
   "cell_type": "markdown",
   "metadata": {
    "hideCode": true,
    "hidePrompt": true
   },
   "source": [
    "#### Model Validation\n",
    "With the `Comparison Report`, we can see `Decision Tree` model has 74,67% accuracy. The accuracy rate for Creditworthy is 86.67% and Non-Creditworthy is 46.67%.\n",
    "\n",
    "![image/DecisionTree2.PNG](image/DecisionTree2.PNG)\n",
    "![image/DecisionTree3.PNG](image/DecisionTree3.PNG)"
   ]
  },
  {
   "attachments": {},
   "cell_type": "markdown",
   "metadata": {
    "hideCode": true,
    "hidePrompt": true
   },
   "source": [
    "<a id='10'></a> \n",
    "### d. Forest Tree\n",
    "A forest model, a machine learning methods that predict a target variable using predictor variables having influences on the target variable. To predict `Credit-Application-Result`, the Forest Tree Model always choose to use the best predictor variables.\n",
    "\n",
    "The Model Summary shows that most important variables used in Forest Tree Model are `Credit-Amount`, `Age-years`, and `Duration-of-Credit-Month`and`Account-Balance`.\n",
    "![image/ForestTree0.PNG](image/ForestTree0.PNG)"
   ]
  },
  {
   "attachments": {},
   "cell_type": "markdown",
   "metadata": {
    "hideCode": true,
    "hidePrompt": true
   },
   "source": [
    "![image/ForestTree1.PNG](image/ForestTree1.PNG)\n"
   ]
  },
  {
   "attachments": {},
   "cell_type": "markdown",
   "metadata": {
    "hideCode": true,
    "hidePrompt": true
   },
   "source": [
    "#### Validation\n",
    "To validate the Forest Tree Model we use `Comparison Model`. With the Model Comparison report, we can see that the Forest Tree Model has a accuracy rate of 78.67%. Out of them, 96.19% predict accurately the application for creditworth, but only 37.78% for non creditworthy.\n",
    "![image/ForestTree3.PNG](image/ForestTree3.PNG)\n",
    "![image/ForestTree4.PNG](image/ForestTree4.PNG)"
   ]
  },
  {
   "attachments": {},
   "cell_type": "markdown",
   "metadata": {
    "hideCode": true,
    "hidePrompt": true
   },
   "source": [
    "<a id='conclusions'></a>\n",
    "## 4.Conclusion:\n",
    "<a id='11'></a> \n",
    "#### a. Choosing Model\n",
    "After all, we will find which model is the best to predict the creditworthiness of applications from 500 new customers.\n",
    "With the `Comparison Model`, we will have the Report following:\n",
    "![image/SummaryCompare1.PNG](image/SummaryCompare1.PNG)"
   ]
  },
  {
   "attachments": {},
   "cell_type": "markdown",
   "metadata": {
    "hideCode": true,
    "hidePrompt": true
   },
   "source": [
    "![image/SummaryCompare3.PNG](image/SummaryCompare3.PNG)\n",
    "With the report, we can see that `Boosted Model` and `Forest Model` have the best rate of accuracy ( 78.67% for both). However, The ROC curve gives an expression that `Forest Model` is better when we use such models for prediction of creditworthiness. "
   ]
  },
  {
   "cell_type": "markdown",
   "metadata": {},
   "source": [
    "<a id='12'></a> \n",
    "#### b. Prediction of Application\n",
    "After choosing model, we can use `Score Tool` in Alteryx to calculate the `Credit Application Result`. "
   ]
  },
  {
   "cell_type": "code",
   "execution_count": 46,
   "metadata": {
    "hideCode": true,
    "hidePrompt": true
   },
   "outputs": [
    {
     "data": {
      "text/html": [
       "<div>\n",
       "<style scoped>\n",
       "    .dataframe tbody tr th:only-of-type {\n",
       "        vertical-align: middle;\n",
       "    }\n",
       "\n",
       "    .dataframe tbody tr th {\n",
       "        vertical-align: top;\n",
       "    }\n",
       "\n",
       "    .dataframe thead th {\n",
       "        text-align: right;\n",
       "    }\n",
       "</style>\n",
       "<table border=\"1\" class=\"dataframe\">\n",
       "  <thead>\n",
       "    <tr style=\"text-align: right;\">\n",
       "      <th></th>\n",
       "      <th>Account.Balance</th>\n",
       "      <th>Duration.of.Credit.Month</th>\n",
       "      <th>Payment.Status.of.Previous.Credit</th>\n",
       "      <th>Purpose</th>\n",
       "      <th>Credit.Amount</th>\n",
       "      <th>Value.Savings.Stocks</th>\n",
       "      <th>Length.of.current.employment</th>\n",
       "      <th>Instalment.per.cent</th>\n",
       "      <th>Guarantors</th>\n",
       "      <th>Duration.in.Current.address</th>\n",
       "      <th>...</th>\n",
       "      <th>Type.of.apartment</th>\n",
       "      <th>No.of.Credits.at.this.Bank</th>\n",
       "      <th>Occupation</th>\n",
       "      <th>No.of.dependents</th>\n",
       "      <th>Telephone</th>\n",
       "      <th>Foreign.Worker</th>\n",
       "      <th>Age_years</th>\n",
       "      <th>X_Creditworthy</th>\n",
       "      <th>X_Non-Creditworthy</th>\n",
       "      <th>Application_Result</th>\n",
       "    </tr>\n",
       "  </thead>\n",
       "  <tbody>\n",
       "    <tr>\n",
       "      <th>341</th>\n",
       "      <td>Some Balance</td>\n",
       "      <td>18</td>\n",
       "      <td>Paid Up</td>\n",
       "      <td>Used car</td>\n",
       "      <td>3049</td>\n",
       "      <td>None</td>\n",
       "      <td>&lt; 1yr</td>\n",
       "      <td>1</td>\n",
       "      <td>None</td>\n",
       "      <td>1</td>\n",
       "      <td>...</td>\n",
       "      <td>2</td>\n",
       "      <td>1</td>\n",
       "      <td>1</td>\n",
       "      <td>1</td>\n",
       "      <td>1</td>\n",
       "      <td>1</td>\n",
       "      <td>45</td>\n",
       "      <td>0.938</td>\n",
       "      <td>0.062</td>\n",
       "      <td>Creditworthy</td>\n",
       "    </tr>\n",
       "    <tr>\n",
       "      <th>280</th>\n",
       "      <td>No Account</td>\n",
       "      <td>36</td>\n",
       "      <td>Paid Up</td>\n",
       "      <td>Used car</td>\n",
       "      <td>3446</td>\n",
       "      <td>None</td>\n",
       "      <td>4-7 yrs</td>\n",
       "      <td>4</td>\n",
       "      <td>None</td>\n",
       "      <td>2</td>\n",
       "      <td>...</td>\n",
       "      <td>2</td>\n",
       "      <td>1</td>\n",
       "      <td>1</td>\n",
       "      <td>2</td>\n",
       "      <td>1</td>\n",
       "      <td>1</td>\n",
       "      <td>42</td>\n",
       "      <td>0.624</td>\n",
       "      <td>0.376</td>\n",
       "      <td>Creditworthy</td>\n",
       "    </tr>\n",
       "    <tr>\n",
       "      <th>33</th>\n",
       "      <td>No Account</td>\n",
       "      <td>12</td>\n",
       "      <td>Paid Up</td>\n",
       "      <td>Home Related</td>\n",
       "      <td>1567</td>\n",
       "      <td>None</td>\n",
       "      <td>&lt; 1yr</td>\n",
       "      <td>1</td>\n",
       "      <td>None</td>\n",
       "      <td>1</td>\n",
       "      <td>...</td>\n",
       "      <td>2</td>\n",
       "      <td>1</td>\n",
       "      <td>1</td>\n",
       "      <td>1</td>\n",
       "      <td>2</td>\n",
       "      <td>1</td>\n",
       "      <td>22</td>\n",
       "      <td>0.410</td>\n",
       "      <td>0.590</td>\n",
       "      <td>Non-Creditworthy</td>\n",
       "    </tr>\n",
       "  </tbody>\n",
       "</table>\n",
       "<p>3 rows × 22 columns</p>\n",
       "</div>"
      ],
      "text/plain": [
       "    Account.Balance  Duration.of.Credit.Month  \\\n",
       "341    Some Balance                        18   \n",
       "280      No Account                        36   \n",
       "33       No Account                        12   \n",
       "\n",
       "    Payment.Status.of.Previous.Credit       Purpose  Credit.Amount  \\\n",
       "341                           Paid Up      Used car           3049   \n",
       "280                           Paid Up      Used car           3446   \n",
       "33                            Paid Up  Home Related           1567   \n",
       "\n",
       "    Value.Savings.Stocks Length.of.current.employment  Instalment.per.cent  \\\n",
       "341                 None                        < 1yr                    1   \n",
       "280                 None                      4-7 yrs                    4   \n",
       "33                  None                        < 1yr                    1   \n",
       "\n",
       "    Guarantors  Duration.in.Current.address         ...          \\\n",
       "341       None                            1         ...           \n",
       "280       None                            2         ...           \n",
       "33        None                            1         ...           \n",
       "\n",
       "     Type.of.apartment No.of.Credits.at.this.Bank  Occupation  \\\n",
       "341                  2                          1           1   \n",
       "280                  2                          1           1   \n",
       "33                   2                          1           1   \n",
       "\n",
       "    No.of.dependents  Telephone  Foreign.Worker  Age_years  X_Creditworthy  \\\n",
       "341                1          1               1         45           0.938   \n",
       "280                2          1               1         42           0.624   \n",
       "33                 1          2               1         22           0.410   \n",
       "\n",
       "     X_Non-Creditworthy  Application_Result  \n",
       "341               0.062        Creditworthy  \n",
       "280               0.376        Creditworthy  \n",
       "33                0.590    Non-Creditworthy  \n",
       "\n",
       "[3 rows x 22 columns]"
      ]
     },
     "execution_count": 46,
     "metadata": {},
     "output_type": "execute_result"
    }
   ],
   "source": [
    "result1= pd.read_excel('result1.xlsx', sheet_name='Sheet1')\n",
    "result1.sample(3)"
   ]
  },
  {
   "attachments": {},
   "cell_type": "markdown",
   "metadata": {
    "hideCode": true,
    "hidePrompt": true
   },
   "source": [
    "And we can see that with `Forest Model`, from 500 new customers with given information in Dataset, we will classify into 2 category: `Creditworthy` and `Non-creditworthy` with the number like following:\n",
    "![image/Capture.PNG](image/Capture.PNG)"
   ]
  },
  {
   "attachments": {},
   "cell_type": "markdown",
   "metadata": {
    "hideCode": true,
    "hidePrompt": true
   },
   "source": [
    "\n",
    "All of the process to choose a suitable model as well as to predict the application result follows the Alteryx Workflow:\n",
    "![image/Modelling.PNG](image/Modelling.PNG)"
   ]
  }
 ],
 "metadata": {
  "hide_code_all_hidden": true,
  "hide_input": true,
  "kernelspec": {
   "display_name": "Python 3",
   "language": "python",
   "name": "python3"
  },
  "language_info": {
   "codemirror_mode": {
    "name": "ipython",
    "version": 3
   },
   "file_extension": ".py",
   "mimetype": "text/x-python",
   "name": "python",
   "nbconvert_exporter": "python",
   "pygments_lexer": "ipython3",
   "version": "3.7.6"
  }
 },
 "nbformat": 4,
 "nbformat_minor": 4
}
