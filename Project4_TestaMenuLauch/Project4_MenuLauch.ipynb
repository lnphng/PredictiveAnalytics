{
 "cells": [
  {
   "cell_type": "markdown",
   "metadata": {
    "hideCode": true,
    "hidePrompt": true,
    "slideshow": {
     "slide_type": "slide"
    }
   },
   "source": [
    "\n",
    "<h1><center> Project 4: A/B Test a New Menu Launch </center></h1>\n",
    "\n",
    " ###  Structure of Report\n",
    "<ol>\n",
    "<li><a href=\"#intro\">Business and Data Understanding</a></li>\n",
    "      &nbsp; &emsp; <a href=\"#1\"> a. Goal of project </a>\n",
    "  <br>&nbsp; &emsp; <a href=\"#2\">b. Dataset overview </a>\n",
    "  <br>&nbsp; &emsp; <a href=\"#3\">b. Key decision </a>\n",
    "<li><a href=\"#wrangling\">Building the Training Set</a></li>\n",
    "<li><a href=\"#eda\">Train your Classification Models</a></li>\n",
    "<li><a href=\"#conclusions\">Conclusions</a></li>\n"
   ]
  },
  {
   "cell_type": "markdown",
   "metadata": {
    "hideCode": false,
    "hidePrompt": true
   },
   "source": [
    "<a id='intro'></a>\n",
    "## 1. Business and Data Understanding\n",
    "<a id='1'></a>\n",
    "#### a. Goal of project\n",
    "\n",
    "-  As a business analyst for Round Roasters, a coffee restaurant in the United States of America, I need to analyze the A/B test to figure whether the new menu can drive enough sales to offset the cost of marketing the new menu. A recommendation to whether the Round Roasters chain should launch a new menu should be written.\n",
    "\n",
    "- Situation:\n",
    "    - stagnant growth at the coffee chain, \n",
    "    - managerment wants to reignite growth at their stores.\n",
    "- Initiative:\n",
    "    - Introducing gourmet sandwiches to the menu, along with limited wine offerings. \n",
    "    - A television advertising campaign is crucial to drive people into the stores with these new offerings.\n",
    "- Problems:\n",
    "    - A significant boost in the company’s marketing budget, \n",
    "    - Unknown return on investment (ROI),\n",
    "    - Current customers will not buy into the new menu offerings.\n",
    "- Strategy:\n",
    "    - Test the changes in two cities ( Denver and Chicag) with new television advertising\n",
    "        - The stores in these two cities (or markets) perform similarly to all stores across the entire chain of stores;\n",
    "        - A good proxy to predict how well the updated menu performs.\n",
    "    - Test period: 12 weeks (2016-April-29 to 2016-July-21) compared with 12 weeks last years ((2015-April-29 to 2015-July-21).)\n",
    "    - Scope: five stores in each of the test markets offered the updated menu along with television advertising.\n",
    "- Tasks:\n",
    "    - Analyzing the results of the experiment to determine whether the menu changes should be applied to all stores,\n",
    "    - Predicting impact to profitability\n",
    "    - In the data, profit is represented in the gross_margin variable.\n",
    "\n",
    "\n",
    "<a id='2'></a>\n",
    "#### b. Datasets overview\n",
    "- `round-roaster-stores.csv` - This file contains store information for each Round Roaster store in the USA.\n",
    "\n",
    "- `treatment-stores.csv` - This file contains store information for each store that offered the new menu items.\n",
    "\n",
    "- `round-roaster-transactions.zip` - This file contains transaction level information for all of Round Roaster's stores\n",
    "\n",
    "<a id='3'></a>\n",
    "#### c. Key Decisions:\n",
    "- What is the performance metric you’ll use to evaluate the results of your test?\n",
    "> The total gross margin pro week will be used as performance metric to evaluate the results of the test\n",
    "- What is the test period?\n",
    "> Test period: 12 weeks (2016-April-29 to 2016-July-21)\n",
    "- At what level (day, week, month, etc.) should the data be aggregated?\n",
    "> The data should be aggregated weekly."
   ]
  },
  {
   "attachments": {},
   "cell_type": "markdown",
   "metadata": {
    "hideCode": true,
    "hidePrompt": true
   },
   "source": [
    "<a id='wrangling'></a> \n",
    "## 2. Building the Training Set\n",
    "\n",
    "We must take 76 weeks data because: \n",
    "   - data in 1 year (~ 52 weeks)\n",
    "   - data in 12 weeks in 2015 needed to compare,  \n",
    "   - data in 12 weeks of test period. \n",
    "\n",
    "`Round Roaster Transaction` and `Round Roaster Store` datasets are joined to have 2 datasets:\n",
    "   - `Result_WeeklyStoreTraffic` which includes about the transaction per week per store\n",
    "   - `Result2_StoreSalesAnalysisData` which includes Sales and Gross Margin per week per store\n",
    " \n",
    "After that we will combine a list of stores, which does not include new menu, with `Treatment Store` to get:\n",
    "   - `Result3_Storelist` includes a list of 'Control and Treatment' stores.\n",
    "![Capture.PNG](image/Capture.PNG)\n",
    "<center> Figure 1: Workflow to Building Datasets </center>"
   ]
  },
  {
   "attachments": {},
   "cell_type": "markdown",
   "metadata": {},
   "source": [
    "<a id='eda'></a>\n",
    "## 3. Match Treatment and Control Units\n",
    "![image/BuildingCC_TTPair.PNG](image/BuildingCC_TTPair.PNG)\n",
    "<center> Figure 2: Workflow to Building Treatment and Control Store Pairs </center>\n",
    "\n",
    "![image/corrMa.PNG](image/corrMa.PNG)\n",
    "<center> Figure 3: Correlation matrix between performance metric and possible control variable </center>\n",
    "\n",
    "### a.\tWhat control variables should be considered?\n",
    "\n",
    "With the correaltion matrix, it is logical that `Week` and `Store ID` play no role with the profit of a store and `Sales_perWeek` and `GrossMargin_perWeek` are duplicated variables.\n",
    "So to measure the profitablility per week of a store, the considered control variables could be `Sq_Ft` und `AvgMontlySales`. I hope that the larger a store is, the more profit hat the store. The same with `AvgMontlySales`.\n",
    "\n",
    "### b.\tWhat is the correlation between your each potential control variable and your performance metric?\n",
    "We have our performance metric is `GrossMargin_perWeek` and potential control variables `Sq_Ft` und `AvgMontlySales`. Using Person correlation we have:\n",
    "![image/Person.PNG](image/Person.PNG)\n",
    "\n",
    "### c.3.\tWhat control variables will you use to match treatment and control stores?\n",
    "\n",
    " As mentioned above, `Sales_perWeek` and `GrossMargin_perWeek` are duplicated variables. And with the Pearson Correlation Analysis, `Sq_Ft` is insignificant. So only  `AvgMontlySales` will be used to match treatment and control stores.\n",
    "\n",
    "### 4.\tPlease fill out the table below with your treatment and control stores pairs:\n",
    "\n",
    "\n",
    "| Treatment Store | Control Store 1 | Control Store 2 |\n",
    "| --- | --- | --- |\n",
    "| 1664 | 7162 | 8112 |\n",
    "| 1675 | 1580 | 1807 |\n",
    "| 1696 | 1964 | 1863 |\n",
    "| 1700 | 2014 | 1630 |\n",
    "| 1712 | 8162 | 7434 |\n",
    "| 2288 | 9081 | 2568 |\n",
    "| 2293 | 12219 | 9524 |\n",
    "| 2301 | 3102 | 9238 |\n",
    "| 2322 | 2409 | 3235 |\n",
    "| 2341 | 12536 | 2383 |"
   ]
  },
  {
   "attachments": {},
   "cell_type": "markdown",
   "metadata": {
    "hideCode": true,
    "hidePrompt": true
   },
   "source": [
    "<a id='conclusions'></a>\n",
    "## 4.Analysis and Writeup\n",
    "<a id='11'></a> \n",
    "![image/ABAna.PNG](image/ABAna.PNG)\n",
    "<center> Figure 4: Workflow to get AB Analysis for stores in the central areas </center>\n",
    "\n",
    "1.\tWhat is your recommendation - Should the company roll out the updated menu to all stores? \n",
    "> After using AB Analysis, we can see that the company should definitely roll out the new menu to all stores. Because the very high possibility that the company will gain an average lift in profit of around 40\\% for the new menu. This result is far outweigh from an increase of 18% of expectation from management board\n",
    "2.\tWhat is the lift from the new menu for West and Central regions (include statistical significance)? \n",
    "> The average expected impact of the treatment on GrossMargin_perWeek is an increasing of \\$835.5 and 526.3 per week per store, aquadately to a lift of 43.5\\% and 37.9\\% in the central and west areas respectively.\n",
    "\n",
    "![image/central.PNG](image/central.PNG)\n",
    "<center> Figure 5: AB Analysis for stores in the central areas </center>\n",
    "\n",
    "![image/west.PNG](image/west.PNG)\n",
    "<center> Figure 6: AB Analysis for stores in the west areas </center>\n",
    "\n",
    "3.\tWhat is the lift from the new menu overall?\n",
    ">  The average expected impact of the treatment on GrossMargin_perWeek in overall is an increasing of 680.9 per week per store, aquadately to a lift of 40.7\\%.\n",
    "\n",
    "![image/overall.PNG](image/overall.PNG)\n",
    "<center> Figure 7: An overall AB Analysis for all stores </center>"
   ]
  }
 ],
 "metadata": {
  "celltoolbar": "Hide code",
  "hide_code_all_hidden": true,
  "hide_input": false,
  "kernelspec": {
   "display_name": "Python 3",
   "language": "python",
   "name": "python3"
  },
  "language_info": {
   "codemirror_mode": {
    "name": "ipython",
    "version": 3
   },
   "file_extension": ".py",
   "mimetype": "text/x-python",
   "name": "python",
   "nbconvert_exporter": "python",
   "pygments_lexer": "ipython3",
   "version": "3.7.6"
  }
 },
 "nbformat": 4,
 "nbformat_minor": 4
}
