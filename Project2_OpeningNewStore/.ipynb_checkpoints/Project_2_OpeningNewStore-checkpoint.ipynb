{
 "cells": [
  {
   "cell_type": "markdown",
   "metadata": {
    "hideCode": true,
    "hidePrompt": false,
    "slideshow": {
     "slide_type": "slide"
    }
   },
   "source": [
    "\n",
    "\n",
    "<h1><center> Project Opening New Store </center></h1>\n",
    "\n",
    " ###  Structure of Report\n",
    "<ol>\n",
    "<li><a href=\"#intro\">Business and Data Understanding</a></li>\n",
    "      &nbsp; &emsp; <a href=\"#1\"> a. Goal of project </a>\n",
    "  <br>&nbsp; &emsp; <a href=\"#2\">b. Dataset overview </a>\n",
    "  <br>&nbsp; &emsp; <a href=\"#3\">b. Key decision </a>\n",
    "<li><a href=\"#wrangling\">Data Cleanup</a></li>\n",
    "      &nbsp; &emsp; <a href=\"#4\">a. Building the Training Set</a>\n",
    "  <br>&nbsp; &emsp; <a href=\"#5\">b. Dealing with Outliers </a>\n",
    "<li><a href=\"#eda\">Analysis, Modeling, and Validation</a></li>\n",
    "      &nbsp; &emsp; <a href=\"#eda\">a. Analysis </a>\n",
    "  <br>&nbsp; &emsp; <a href=\"#8\">b. Modeling </a>\n",
    "  <br>&nbsp; &emsp; <a href=\"#9\">c. Validation </a>\n",
    "  <li><a href=\"#conclusions\">Conclusions</a></li>\n"
   ]
  },
  {
   "cell_type": "markdown",
   "metadata": {
    "hideCode": true,
    "hidePrompt": false
   },
   "source": [
    "<a id='intro'></a>\n",
    "## 1. Business and Data Understanding\n",
    "<a id='1'></a>\n",
    "#### a. Goal of project\n",
    "\n",
    "- In this project, we will In the first part, we blend and format data, deal with outliers to make a clean dataset. After that, we use the cleaned up dataset to create a linear regression model. We have to choose which predictor variable(s) are the important for the regression model using Person correlation.\n",
    "\n",
    "- In this project I use mainly Alteryx to deal with data, but sometime also Python. \n",
    "\n",
    "- Scenario\n",
    "     - Pawdacity is a leading pet store chain in Wyoming with 13 stores throughout the state. This year, Pawdacity would like to expand and open a 14th store. The manager has asked to perform an analysis to recommend the city for Pawdacity’s newest store, based on predicted yearly sales.\n",
    "     - Given:\n",
    "        - The monthly sales data for all of the Pawdacity stores for the year 2010.\n",
    "        - A partially parsed data file that can be used for population numbers.\n",
    "        - Demographic data (`Households with individuals under 18`, `Land Area`, `Population Density`, and `Total Families`) for each city and county in the state of Wyoming. \n",
    "<a id='2'></a>\n",
    "#### b. Datasets overview\n",
    "   - `p2-2010-pawdacity-monthly-sales.csv`:This file contains all of the monthly sales for all Pawdacity stores for 2010.\n",
    "   - `p2-partially-parsed-wy-web-scrape.csv`: This is a partially parsed data file that can be used for population numbers.\n",
    "   - `p2-wy-demographic-data.csv`: This file contains demographic data for each city and county in Wyoming.\n",
    "<a id='3'></a>\n",
    "#### c. Key Decisions:\n",
    "-\tWhat decisions needs to be made?\n",
    "> We need to find out which city should be a new place to open new pet store, based on yearly sales.\n",
    "-\tWhat data is needed to inform those decisions?\n",
    "> We need consider some predictor variables such as `Land Area`, `Population Density`, and `Total Families` in order to predict revenues for stores expected opening at cities. After that we will decide which city will be choosen to open store."
   ]
  },
  {
   "cell_type": "markdown",
   "metadata": {
    "hideCode": true,
    "hidePrompt": true
   },
   "source": [
    "<a id='wrangling'></a> \n",
    "## 2. Data Cleanup\n",
    "<a id='4'></a>\n",
    "### a. Building the Training Set\n",
    "#### Dataset 1 `p2-2010-pawdacity-monthly-sales-p2-2010-pawdacity-monthly-sales.csv`: "
   ]
  },
  {
   "cell_type": "code",
   "execution_count": 67,
   "metadata": {
    "hideCode": false,
    "hidePrompt": true,
    "scrolled": false
   },
   "outputs": [
    {
     "data": {
      "text/html": [
       "<div>\n",
       "<style scoped>\n",
       "    .dataframe tbody tr th:only-of-type {\n",
       "        vertical-align: middle;\n",
       "    }\n",
       "\n",
       "    .dataframe tbody tr th {\n",
       "        vertical-align: top;\n",
       "    }\n",
       "\n",
       "    .dataframe thead th {\n",
       "        text-align: right;\n",
       "    }\n",
       "</style>\n",
       "<table border=\"1\" class=\"dataframe\">\n",
       "  <thead>\n",
       "    <tr style=\"text-align: right;\">\n",
       "      <th></th>\n",
       "      <th>NAME</th>\n",
       "      <th>ADDRESS</th>\n",
       "      <th>CITY</th>\n",
       "      <th>STATE</th>\n",
       "      <th>ZIP</th>\n",
       "      <th>January</th>\n",
       "      <th>February</th>\n",
       "      <th>March</th>\n",
       "      <th>April</th>\n",
       "      <th>May</th>\n",
       "      <th>June</th>\n",
       "      <th>July</th>\n",
       "      <th>August</th>\n",
       "      <th>September</th>\n",
       "      <th>October</th>\n",
       "      <th>November</th>\n",
       "      <th>December</th>\n",
       "    </tr>\n",
       "  </thead>\n",
       "  <tbody>\n",
       "    <tr>\n",
       "      <th>0</th>\n",
       "      <td>Pawdacity</td>\n",
       "      <td>509 Fort St # A</td>\n",
       "      <td>Buffalo</td>\n",
       "      <td>WY</td>\n",
       "      <td>82834</td>\n",
       "      <td>16200</td>\n",
       "      <td>13392</td>\n",
       "      <td>14688</td>\n",
       "      <td>17064</td>\n",
       "      <td>18360</td>\n",
       "      <td>14040</td>\n",
       "      <td>12960</td>\n",
       "      <td>19224</td>\n",
       "      <td>15984</td>\n",
       "      <td>13392</td>\n",
       "      <td>13176</td>\n",
       "      <td>16848</td>\n",
       "    </tr>\n",
       "    <tr>\n",
       "      <th>1</th>\n",
       "      <td>Pawdacity</td>\n",
       "      <td>601 SE Wyoming Blvd Unit 252</td>\n",
       "      <td>Casper</td>\n",
       "      <td>WY</td>\n",
       "      <td>82609</td>\n",
       "      <td>29160</td>\n",
       "      <td>21600</td>\n",
       "      <td>27000</td>\n",
       "      <td>27648</td>\n",
       "      <td>29160</td>\n",
       "      <td>27216</td>\n",
       "      <td>25488</td>\n",
       "      <td>25704</td>\n",
       "      <td>22896</td>\n",
       "      <td>25272</td>\n",
       "      <td>28944</td>\n",
       "      <td>27648</td>\n",
       "    </tr>\n",
       "    <tr>\n",
       "      <th>2</th>\n",
       "      <td>Pawdacity</td>\n",
       "      <td>3769 E Lincolnway</td>\n",
       "      <td>Cheyenne</td>\n",
       "      <td>WY</td>\n",
       "      <td>82001</td>\n",
       "      <td>79920</td>\n",
       "      <td>70632</td>\n",
       "      <td>79056</td>\n",
       "      <td>77544</td>\n",
       "      <td>73656</td>\n",
       "      <td>77976</td>\n",
       "      <td>73872</td>\n",
       "      <td>77544</td>\n",
       "      <td>78516</td>\n",
       "      <td>74520</td>\n",
       "      <td>74736</td>\n",
       "      <td>79920</td>\n",
       "    </tr>\n",
       "    <tr>\n",
       "      <th>3</th>\n",
       "      <td>Pawdacity</td>\n",
       "      <td>2625 Big Horn Ave</td>\n",
       "      <td>Cody</td>\n",
       "      <td>WY</td>\n",
       "      <td>82414</td>\n",
       "      <td>19440</td>\n",
       "      <td>15984</td>\n",
       "      <td>19008</td>\n",
       "      <td>18144</td>\n",
       "      <td>16632</td>\n",
       "      <td>17496</td>\n",
       "      <td>18792</td>\n",
       "      <td>20304</td>\n",
       "      <td>19224</td>\n",
       "      <td>18144</td>\n",
       "      <td>18576</td>\n",
       "      <td>16632</td>\n",
       "    </tr>\n",
       "    <tr>\n",
       "      <th>4</th>\n",
       "      <td>Pawdacity</td>\n",
       "      <td>123 S 2nd St</td>\n",
       "      <td>Douglas</td>\n",
       "      <td>WY</td>\n",
       "      <td>82633</td>\n",
       "      <td>16200</td>\n",
       "      <td>13392</td>\n",
       "      <td>14688</td>\n",
       "      <td>17064</td>\n",
       "      <td>18360</td>\n",
       "      <td>14040</td>\n",
       "      <td>12960</td>\n",
       "      <td>19224</td>\n",
       "      <td>15984</td>\n",
       "      <td>29808</td>\n",
       "      <td>17496</td>\n",
       "      <td>18792</td>\n",
       "    </tr>\n",
       "  </tbody>\n",
       "</table>\n",
       "</div>"
      ],
      "text/plain": [
       "        NAME                       ADDRESS      CITY STATE    ZIP  January  \\\n",
       "0  Pawdacity               509 Fort St # A   Buffalo    WY  82834    16200   \n",
       "1  Pawdacity  601 SE Wyoming Blvd Unit 252    Casper    WY  82609    29160   \n",
       "2  Pawdacity             3769 E Lincolnway  Cheyenne    WY  82001    79920   \n",
       "3  Pawdacity             2625 Big Horn Ave      Cody    WY  82414    19440   \n",
       "4  Pawdacity                  123 S 2nd St   Douglas    WY  82633    16200   \n",
       "\n",
       "   February  March  April    May   June   July  August  September  October  \\\n",
       "0     13392  14688  17064  18360  14040  12960   19224      15984    13392   \n",
       "1     21600  27000  27648  29160  27216  25488   25704      22896    25272   \n",
       "2     70632  79056  77544  73656  77976  73872   77544      78516    74520   \n",
       "3     15984  19008  18144  16632  17496  18792   20304      19224    18144   \n",
       "4     13392  14688  17064  18360  14040  12960   19224      15984    29808   \n",
       "\n",
       "   November  December  \n",
       "0     13176     16848  \n",
       "1     28944     27648  \n",
       "2     74736     79920  \n",
       "3     18576     16632  \n",
       "4     17496     18792  "
      ]
     },
     "execution_count": 67,
     "metadata": {},
     "output_type": "execute_result"
    }
   ],
   "source": [
    "import numpy as np\n",
    "import matplotlib.pyplot as plt\n",
    "import pandas as pd\n",
    "import seaborn as sns\n",
    "from pandas.plotting import scatter_matrix\n",
    "df_raw1= pd.read_csv('p2-2010-pawdacity-monthly-sales-p2-2010-pawdacity-monthly-sales.csv')\n",
    "df_raw1.head(5)"
   ]
  },
  {
   "cell_type": "markdown",
   "metadata": {
    "hideCode": true,
    "hidePrompt": true
   },
   "source": [
    "> We need to check Dataset `p2-2010-pawdacity-monthly-sales-p2-2010-pawdacity-monthly-sales.csv` to ensure the data type suitable to . In addition we need to create a new column `Total_Sale` in order to make analysis based on predicted yearly sales."
   ]
  },
  {
   "cell_type": "markdown",
   "metadata": {},
   "source": [
    "####  Dataset 2 `p2-partially-parsed-wy-web-scrape.csv`:"
   ]
  },
  {
   "cell_type": "code",
   "execution_count": 68,
   "metadata": {
    "hideCode": true,
    "hidePrompt": true,
    "scrolled": true
   },
   "outputs": [
    {
     "data": {
      "text/html": [
       "<div>\n",
       "<style scoped>\n",
       "    .dataframe tbody tr th:only-of-type {\n",
       "        vertical-align: middle;\n",
       "    }\n",
       "\n",
       "    .dataframe tbody tr th {\n",
       "        vertical-align: top;\n",
       "    }\n",
       "\n",
       "    .dataframe thead th {\n",
       "        text-align: right;\n",
       "    }\n",
       "</style>\n",
       "<table border=\"1\" class=\"dataframe\">\n",
       "  <thead>\n",
       "    <tr style=\"text-align: right;\">\n",
       "      <th></th>\n",
       "      <th>City|County</th>\n",
       "      <th>2014 Estimate</th>\n",
       "      <th>2010 Census</th>\n",
       "      <th>2000 Census</th>\n",
       "    </tr>\n",
       "  </thead>\n",
       "  <tbody>\n",
       "    <tr>\n",
       "      <th>0</th>\n",
       "      <td>Afton|Lincoln</td>\n",
       "      <td>&lt;td&gt;1,968&lt;/td&gt;</td>\n",
       "      <td>&lt;td&gt;1,911&lt;/td&gt;</td>\n",
       "      <td>&lt;td&gt;1,818&lt;/td&gt;</td>\n",
       "    </tr>\n",
       "    <tr>\n",
       "      <th>1</th>\n",
       "      <td>Albin|Laramie</td>\n",
       "      <td>&lt;td&gt;185&lt;/td&gt;</td>\n",
       "      <td>&lt;td&gt;181&lt;/td&gt;</td>\n",
       "      <td>&lt;td&gt;120&lt;/td&gt;</td>\n",
       "    </tr>\n",
       "    <tr>\n",
       "      <th>2</th>\n",
       "      <td>Alpine|Lincoln</td>\n",
       "      <td>&lt;td&gt;845&lt;/td&gt;</td>\n",
       "      <td>&lt;td&gt;828&lt;/td&gt;</td>\n",
       "      <td>&lt;td&gt;550&lt;/td&gt;</td>\n",
       "    </tr>\n",
       "    <tr>\n",
       "      <th>3</th>\n",
       "      <td>Baggs|Carbon</td>\n",
       "      <td>&lt;td&gt;439&lt;/td&gt;</td>\n",
       "      <td>&lt;td&gt;440&lt;/td&gt;</td>\n",
       "      <td>&lt;td&gt;348&lt;/td&gt;</td>\n",
       "    </tr>\n",
       "    <tr>\n",
       "      <th>4</th>\n",
       "      <td>Bairoil|Sweetwater</td>\n",
       "      <td>&lt;td&gt;107&lt;/td&gt;</td>\n",
       "      <td>&lt;td&gt;106&lt;/td&gt;</td>\n",
       "      <td>&lt;td&gt;97&lt;/td&gt;</td>\n",
       "    </tr>\n",
       "  </tbody>\n",
       "</table>\n",
       "</div>"
      ],
      "text/plain": [
       "          City|County   2014 Estimate     2010 Census     2000 Census\n",
       "0       Afton|Lincoln  <td>1,968</td>  <td>1,911</td>  <td>1,818</td>\n",
       "1       Albin|Laramie    <td>185</td>    <td>181</td>    <td>120</td>\n",
       "2      Alpine|Lincoln    <td>845</td>    <td>828</td>    <td>550</td>\n",
       "3        Baggs|Carbon    <td>439</td>    <td>440</td>    <td>348</td>\n",
       "4  Bairoil|Sweetwater    <td>107</td>    <td>106</td>     <td>97</td>"
      ]
     },
     "execution_count": 68,
     "metadata": {},
     "output_type": "execute_result"
    }
   ],
   "source": [
    "df_raw2= pd.read_csv('p2-partially-parsed-wy-web-scrape.csv')\n",
    "df_raw2.head(5)"
   ]
  },
  {
   "cell_type": "markdown",
   "metadata": {
    "hideCode": true,
    "hidePrompt": true
   },
   "source": [
    "> Dataset `p2-partially-parsed-wy-web-scrape.csv` has some obvious problems with data, we need to parse column `City|County` into `City` and `County`. All of characters such as `<td>` and `</td>` or `,` need to be delete. Data type need to be suitable to make analysis.\n",
    "\n",
    "#### Dataset 3 `p2-wy-demographic-data.csv`"
   ]
  },
  {
   "cell_type": "code",
   "execution_count": 69,
   "metadata": {
    "hideCode": true,
    "hidePrompt": true
   },
   "outputs": [
    {
     "data": {
      "text/html": [
       "<div>\n",
       "<style scoped>\n",
       "    .dataframe tbody tr th:only-of-type {\n",
       "        vertical-align: middle;\n",
       "    }\n",
       "\n",
       "    .dataframe tbody tr th {\n",
       "        vertical-align: top;\n",
       "    }\n",
       "\n",
       "    .dataframe thead th {\n",
       "        text-align: right;\n",
       "    }\n",
       "</style>\n",
       "<table border=\"1\" class=\"dataframe\">\n",
       "  <thead>\n",
       "    <tr style=\"text-align: right;\">\n",
       "      <th></th>\n",
       "      <th>City</th>\n",
       "      <th>County</th>\n",
       "      <th>Land Area</th>\n",
       "      <th>Households with Under 18</th>\n",
       "      <th>Population Density</th>\n",
       "      <th>Total Families</th>\n",
       "    </tr>\n",
       "  </thead>\n",
       "  <tbody>\n",
       "    <tr>\n",
       "      <th>0</th>\n",
       "      <td>Laramie</td>\n",
       "      <td>Albany</td>\n",
       "      <td>2513.745235</td>\n",
       "      <td>2075</td>\n",
       "      <td>5.19</td>\n",
       "      <td>4668.93</td>\n",
       "    </tr>\n",
       "    <tr>\n",
       "      <th>1</th>\n",
       "      <td>Rock River</td>\n",
       "      <td>Albany</td>\n",
       "      <td>200.444000</td>\n",
       "      <td>165</td>\n",
       "      <td>0.41</td>\n",
       "      <td>372.30</td>\n",
       "    </tr>\n",
       "    <tr>\n",
       "      <th>2</th>\n",
       "      <td>Basin</td>\n",
       "      <td>Big Horn</td>\n",
       "      <td>543.951304</td>\n",
       "      <td>250</td>\n",
       "      <td>0.66</td>\n",
       "      <td>566.43</td>\n",
       "    </tr>\n",
       "    <tr>\n",
       "      <th>3</th>\n",
       "      <td>Burlington</td>\n",
       "      <td>Big Horn</td>\n",
       "      <td>137.646214</td>\n",
       "      <td>63</td>\n",
       "      <td>0.17</td>\n",
       "      <td>143.34</td>\n",
       "    </tr>\n",
       "    <tr>\n",
       "      <th>4</th>\n",
       "      <td>Byron</td>\n",
       "      <td>Big Horn</td>\n",
       "      <td>252.489592</td>\n",
       "      <td>116</td>\n",
       "      <td>0.31</td>\n",
       "      <td>262.93</td>\n",
       "    </tr>\n",
       "  </tbody>\n",
       "</table>\n",
       "</div>"
      ],
      "text/plain": [
       "         City    County    Land Area  Households with Under 18  \\\n",
       "0     Laramie    Albany  2513.745235                      2075   \n",
       "1  Rock River    Albany   200.444000                       165   \n",
       "2       Basin  Big Horn   543.951304                       250   \n",
       "3  Burlington  Big Horn   137.646214                        63   \n",
       "4       Byron  Big Horn   252.489592                       116   \n",
       "\n",
       "   Population Density  Total Families  \n",
       "0                5.19         4668.93  \n",
       "1                0.41          372.30  \n",
       "2                0.66          566.43  \n",
       "3                0.17          143.34  \n",
       "4                0.31          262.93  "
      ]
     },
     "execution_count": 69,
     "metadata": {},
     "output_type": "execute_result"
    }
   ],
   "source": [
    "df_raw3=pd.read_csv('p2-wy-demographic-data.csv')\n",
    "df_raw3.head(5)"
   ]
  },
  {
   "cell_type": "markdown",
   "metadata": {},
   "source": [
    "> Dataset 3, generally is good. But we still need to make all data in exact types in order to make analysis easily and no mistakes occurred."
   ]
  },
  {
   "cell_type": "markdown",
   "metadata": {
    "hideCode": true
   },
   "source": [
    "After processing data at the first step, we will have a raw dataset with the `sum` and `average` of all numeric columns like:"
   ]
  },
  {
   "cell_type": "code",
   "execution_count": 70,
   "metadata": {
    "hideCode": true,
    "hidePrompt": true
   },
   "outputs": [
    {
     "data": {
      "text/html": [
       "<div>\n",
       "<style scoped>\n",
       "    .dataframe tbody tr th:only-of-type {\n",
       "        vertical-align: middle;\n",
       "    }\n",
       "\n",
       "    .dataframe tbody tr th {\n",
       "        vertical-align: top;\n",
       "    }\n",
       "\n",
       "    .dataframe thead th {\n",
       "        text-align: right;\n",
       "    }\n",
       "</style>\n",
       "<table border=\"1\" class=\"dataframe\">\n",
       "  <thead>\n",
       "    <tr style=\"text-align: right;\">\n",
       "      <th></th>\n",
       "      <th>sum</th>\n",
       "      <th>average</th>\n",
       "    </tr>\n",
       "  </thead>\n",
       "  <tbody>\n",
       "    <tr>\n",
       "      <th>Land Area</th>\n",
       "      <td>33071.38</td>\n",
       "      <td>3006.49</td>\n",
       "    </tr>\n",
       "    <tr>\n",
       "      <th>Households with Under 18</th>\n",
       "      <td>34064.00</td>\n",
       "      <td>3096.73</td>\n",
       "    </tr>\n",
       "    <tr>\n",
       "      <th>Population Density</th>\n",
       "      <td>62.80</td>\n",
       "      <td>5.71</td>\n",
       "    </tr>\n",
       "    <tr>\n",
       "      <th>Total Families</th>\n",
       "      <td>62652.79</td>\n",
       "      <td>5695.71</td>\n",
       "    </tr>\n",
       "    <tr>\n",
       "      <th>Census Population</th>\n",
       "      <td>213862.00</td>\n",
       "      <td>19442.00</td>\n",
       "    </tr>\n",
       "    <tr>\n",
       "      <th>Total Pawdacity Sales</th>\n",
       "      <td>3773304.00</td>\n",
       "      <td>343027.64</td>\n",
       "    </tr>\n",
       "  </tbody>\n",
       "</table>\n",
       "</div>"
      ],
      "text/plain": [
       "                                 sum    average\n",
       "Land Area                   33071.38    3006.49\n",
       "Households with Under 18    34064.00    3096.73\n",
       "Population Density             62.80       5.71\n",
       "Total Families              62652.79    5695.71\n",
       "Census Population          213862.00   19442.00\n",
       "Total Pawdacity Sales     3773304.00  343027.64"
      ]
     },
     "execution_count": 70,
     "metadata": {},
     "output_type": "execute_result"
    }
   ],
   "source": [
    "df= pd.read_csv('clean_data0.csv')\n",
    "data_overview=pd.DataFrame(df.sum(numeric_only = True).round(2))\n",
    "data_overview['sum']=pd.DataFrame(df.sum(numeric_only = True).round(2))\n",
    "data_overview['average']=df.mean().round(2)\n",
    "data_overview.drop(columns =[0])"
   ]
  },
  {
   "cell_type": "markdown",
   "metadata": {
    "hideCode": true,
    "hidePrompt": false
   },
   "source": [
    "<a id='5'></a>\n",
    "### b. Dealing with Outliers\n",
    "\n",
    "The pairplot with kind=\"reg\" following shows the linear relationship between variables in the dataset. With the plot we can see how good is the linear relationship between the predictor variables and target variable. Also, how is the outliers in the dataset can be seen in the plot. The target variable is `Total Pawdacity Sales` and predictor variables are `Land Area`,`Households with Under 18`,`Population Density`, `Total Families`, `Census Population`"
   ]
  },
  {
   "cell_type": "code",
   "execution_count": 71,
   "metadata": {
    "hideCode": false,
    "hidePrompt": true,
    "scrolled": false
   },
   "outputs": [
    {
     "data": {
      "image/png": "[encoded data removed]",
      "text/plain": [
       "<Figure size 900x180 with 5 Axes>"
      ]
     },
     "metadata": {
      "needs_background": "light"
     },
     "output_type": "display_data"
    }
   ],
   "source": [
    "a=sns.pairplot(df, x_vars=[ 'Land Area','Households with Under 18','Population Density', 'Total Families', 'Census Population'], y_vars='Total Pawdacity Sales',kind='reg') \n",
    "#b=sns.pairplot(df, x_vars=[ '2014 Estimate', '2010 Census', '2000 Census', 'Land Area'], y_vars='Total_sale',kind=\"reg\"); "
   ]
  },
  {
   "cell_type": "markdown",
   "metadata": {
    "hideCode": true,
    "hidePrompt": false
   },
   "source": [
    "> We use the method IQR to indentify the outlier. \n",
    "We have: \n",
    "                   -  Q1 = df.quantile(0.25)\n",
    "                   -  Q3 = df.quantile(0.75)\n",
    "                   - IQR = Q3-Q1\n",
    "- So the upper bound = Q3 + 1.5\\*IQR\n",
    "- And  the low bound = Q1 - 1.5\\*IQR\n",
    "\n",
    "So the point outside the upper bound and lower bound will be considered as outliers. Using such method we will have outliers like following:\n"
   ]
  },
  {
   "cell_type": "code",
   "execution_count": 72,
   "metadata": {
    "hideCode": true,
    "hidePrompt": true,
    "scrolled": true
   },
   "outputs": [
    {
     "data": {
      "text/html": [
       "<div>\n",
       "<style scoped>\n",
       "    .dataframe tbody tr th:only-of-type {\n",
       "        vertical-align: middle;\n",
       "    }\n",
       "\n",
       "    .dataframe tbody tr th {\n",
       "        vertical-align: top;\n",
       "    }\n",
       "\n",
       "    .dataframe thead th {\n",
       "        text-align: right;\n",
       "    }\n",
       "</style>\n",
       "<table border=\"1\" class=\"dataframe\">\n",
       "  <thead>\n",
       "    <tr style=\"text-align: right;\">\n",
       "      <th></th>\n",
       "      <th>NAME</th>\n",
       "      <th>City</th>\n",
       "      <th>County</th>\n",
       "      <th>ADDRESS</th>\n",
       "      <th>Land Area</th>\n",
       "      <th>Households with Under 18</th>\n",
       "      <th>Population Density</th>\n",
       "      <th>Total Families</th>\n",
       "      <th>Census Population</th>\n",
       "      <th>Total Pawdacity Sales</th>\n",
       "    </tr>\n",
       "  </thead>\n",
       "  <tbody>\n",
       "    <tr>\n",
       "      <th>2</th>\n",
       "      <td>Pawdacity</td>\n",
       "      <td>Cheyenne</td>\n",
       "      <td>Laramie</td>\n",
       "      <td>3769 E Lincolnway</td>\n",
       "      <td>1500.178400</td>\n",
       "      <td>7158</td>\n",
       "      <td>20.34</td>\n",
       "      <td>14612.64</td>\n",
       "      <td>59466</td>\n",
       "      <td>917892</td>\n",
       "    </tr>\n",
       "    <tr>\n",
       "      <th>6</th>\n",
       "      <td>Pawdacity</td>\n",
       "      <td>Gillette</td>\n",
       "      <td>Campbell</td>\n",
       "      <td>200 E Lakeway Rd</td>\n",
       "      <td>2748.852900</td>\n",
       "      <td>4052</td>\n",
       "      <td>5.80</td>\n",
       "      <td>7189.43</td>\n",
       "      <td>29087</td>\n",
       "      <td>543132</td>\n",
       "    </tr>\n",
       "    <tr>\n",
       "      <th>9</th>\n",
       "      <td>Pawdacity</td>\n",
       "      <td>Rock Springs</td>\n",
       "      <td>Sweetwater</td>\n",
       "      <td>2706 Commercial Way</td>\n",
       "      <td>6620.201916</td>\n",
       "      <td>4022</td>\n",
       "      <td>2.78</td>\n",
       "      <td>7572.18</td>\n",
       "      <td>23036</td>\n",
       "      <td>253584</td>\n",
       "    </tr>\n",
       "  </tbody>\n",
       "</table>\n",
       "</div>"
      ],
      "text/plain": [
       "        NAME          City      County              ADDRESS    Land Area  \\\n",
       "2  Pawdacity      Cheyenne     Laramie    3769 E Lincolnway  1500.178400   \n",
       "6  Pawdacity      Gillette    Campbell     200 E Lakeway Rd  2748.852900   \n",
       "9  Pawdacity  Rock Springs  Sweetwater  2706 Commercial Way  6620.201916   \n",
       "\n",
       "   Households with Under 18  Population Density  Total Families  \\\n",
       "2                      7158               20.34        14612.64   \n",
       "6                      4052                5.80         7189.43   \n",
       "9                      4022                2.78         7572.18   \n",
       "\n",
       "   Census Population  Total Pawdacity Sales  \n",
       "2              59466                 917892  \n",
       "6              29087                 543132  \n",
       "9              23036                 253584  "
      ]
     },
     "execution_count": 72,
     "metadata": {},
     "output_type": "execute_result"
    }
   ],
   "source": [
    "Q1 = df.quantile(0.25)\n",
    "Q3 = df.quantile(0.75)\n",
    "IQR=Q3-Q1\n",
    "outliers = (df[['Land Area','Households with Under 18','Population Density', 'Total Families', 'Census Population','Total Pawdacity Sales']] < (Q1 - 1.5*IQR)) \\\n",
    "          |(df[['Land Area','Households with Under 18','Population Density', 'Total Families', 'Census Population','Total Pawdacity Sales']] > (Q3 + 1.5*IQR))                     \n",
    "outliers=outliers[outliers['Total Pawdacity Sales']|outliers['Land Area']]\n",
    "index=outliers.index.values.tolist()                            \n",
    "du=df.iloc[index]\n",
    "du\n"
   ]
  },
  {
   "cell_type": "markdown",
   "metadata": {
    "hideCode": true,
    "hideOutput": false,
    "hidePrompt": true
   },
   "source": [
    "The problem is that here we dealt with a very small dataset, when we delete or remove all outliers, the dataset will be changed alot and maybe cause a bad analysis as well as a wrong prediction. So we need to consider only one outliner need to be remove or impute.\n",
    "\n",
    "All in all, `Gillette` seems to be outside the regression model of dataset and the relationship between it and other values is unclear. Although `Cheyenne` and `Rock Springs` are also outliers because in some columns its values are not normal, but in general, its relation with other variables can be explained.\n",
    "So we will impute `Gillette` out of dataset."
   ]
  },
  {
   "attachments": {},
   "cell_type": "markdown",
   "metadata": {
    "hideCode": true,
    "hidePrompt": false
   },
   "source": [
    "We use Alteryx to clean the data. The workflow is following:\n",
    "![image/Capture.PNG](image/Capture.PNG)"
   ]
  },
  {
   "cell_type": "markdown",
   "metadata": {
    "hideCode": false
   },
   "source": [
    "<a id='eda'></a>\n",
    "## 3. Analysis, Modeling, and Validation\n",
    "\n",
    "### a. Analysis\n",
    "\n",
    " - There are some conditions from manager for choosing a city to open new store:\n",
    "    - The new store should be located in a new city. That means there should be no existing stores in the new city.\n",
    "    - The total sales for the entire competition in the new city should be less than \\$500,000\n",
    "    - The new city where you want to build your new store must have a population over 4,000 people (based upon the 2014 US Census estimate).\n",
    "    - The predicted yearly sales must be over $200,000.\n",
    " - At first, we need to find important predictor variables to use in the regression model with `Total Pawdacity Sales` as the target variable. The following is the heatmap to see the relationships between two variables."
   ]
  },
  {
   "cell_type": "code",
   "execution_count": 114,
   "metadata": {
    "hideCode": false,
    "hidePrompt": true
   },
   "outputs": [
    {
     "data": {
      "image/png": "[encoded data removed]",
      "text/plain": [
       "<Figure size 720x360 with 2 Axes>"
      ]
     },
     "metadata": {
      "needs_background": "light"
     },
     "output_type": "display_data"
    }
   ],
   "source": [
    "df= pd.read_csv('clean_data.csv')\n",
    "corr = df.corr()\n",
    "ig, ax = plt.subplots(figsize=(10,5))\n",
    "cmap=sns.diverging_palette(255, 5, sep=50,n=250, as_cmap=True)\n",
    "ax = sns.heatmap( corr, cmap=cmap, annot=True,)\n",
    "ax.set_xticklabels( ax.get_xticklabels(),  rotation=45, horizontalalignment='right');"
   ]
  },
  {
   "cell_type": "markdown",
   "metadata": {},
   "source": [
    "- With the heatmap, it is clear that `Land Area` has a weak correlation with other variables. It is good to choose it as 1 predictor variable.\n",
    "\n",
    "- For all others, we can see that all have almost the same correlation. Logically, we can see that `Hoseholds with Under 18` and `Total Families` are 1 variable. We will choose `Total Families` as 1 predictor variable because it includes information of `Hoseholds with Under 18`. In the comparison with other variable, the `Total Families` gains a better influence on `Total Pawdacity Sales` so we choose it as the second predictor variable in the linear regression model.\n",
    "\n",
    "- In conclusion, we will do the linear regression to predict `Total Pawdacity Sales` with 2 variables: `Land Area` & `Total Families`"
   ]
  },
  {
   "attachments": {},
   "cell_type": "markdown",
   "metadata": {},
   "source": [
    "<a id='8'></a> \n",
    "### b. Modeling\n",
    "\n",
    "After choosing predictor variables to the model. We will run Alteryx and have a regression liner:\n",
    "![image/Prediction.PNG](image/Prediction.PNG)\n",
    "- The linear regression will be:\n",
    "\n",
    "> `[Total Pawdacity Sales]` = 197,330 – 48.42*`[Land Area]` + 49.14 * `[Total Families]`"
   ]
  },
  {
   "attachments": {},
   "cell_type": "markdown",
   "metadata": {
    "hideCode": true
   },
   "source": [
    "<a id='9'></a> \n",
    "### c. Validation\n",
    "![image/Report.PNG](image/Report.PNG)\n",
    "> With the report, we can see that linear regression is quite good to predict the revenue of expected stores because all of predictor variables are statistical significant with `p_value` < 0.05. In addition `Adjusted R-Square` = 0.8866 shows thatthe regression model is also good."
   ]
  },
  {
   "cell_type": "markdown",
   "metadata": {},
   "source": [
    "<a id='conclusions'></a>\n",
    "## 4.Conclusion:\n",
    "With all given information, we will have the top 10 expected result in the following table:"
   ]
  },
  {
   "cell_type": "code",
   "execution_count": 125,
   "metadata": {
    "hideCode": true,
    "hidePrompt": true
   },
   "outputs": [
    {
     "data": {
      "text/html": [
       "<div>\n",
       "<style scoped>\n",
       "    .dataframe tbody tr th:only-of-type {\n",
       "        vertical-align: middle;\n",
       "    }\n",
       "\n",
       "    .dataframe tbody tr th {\n",
       "        vertical-align: top;\n",
       "    }\n",
       "\n",
       "    .dataframe thead th {\n",
       "        text-align: right;\n",
       "    }\n",
       "</style>\n",
       "<table border=\"1\" class=\"dataframe\">\n",
       "  <thead>\n",
       "    <tr style=\"text-align: right;\">\n",
       "      <th></th>\n",
       "      <th>City</th>\n",
       "      <th>County</th>\n",
       "      <th>Land.Area</th>\n",
       "      <th>Population.Density</th>\n",
       "      <th>Households.with.Under.18</th>\n",
       "      <th>Total.Families</th>\n",
       "      <th>Census Population</th>\n",
       "      <th>2014 Estimate</th>\n",
       "      <th>Sum_Sale Volume of Rivals</th>\n",
       "      <th>Expected_Revenue</th>\n",
       "    </tr>\n",
       "  </thead>\n",
       "  <tbody>\n",
       "    <tr>\n",
       "      <th>0</th>\n",
       "      <td>Laramie</td>\n",
       "      <td>Albany</td>\n",
       "      <td>2513.745235</td>\n",
       "      <td>5.19</td>\n",
       "      <td>2075</td>\n",
       "      <td>4668.93</td>\n",
       "      <td>30816</td>\n",
       "      <td>32081</td>\n",
       "      <td>76000.0</td>\n",
       "      <td>305013.881671</td>\n",
       "    </tr>\n",
       "    <tr>\n",
       "      <th>1</th>\n",
       "      <td>Jackson</td>\n",
       "      <td>Teton</td>\n",
       "      <td>1757.659200</td>\n",
       "      <td>2.36</td>\n",
       "      <td>1078</td>\n",
       "      <td>2313.08</td>\n",
       "      <td>9577</td>\n",
       "      <td>10449</td>\n",
       "      <td>182000.0</td>\n",
       "      <td>225870.823600</td>\n",
       "    </tr>\n",
       "    <tr>\n",
       "      <th>2</th>\n",
       "      <td>Lander</td>\n",
       "      <td>Fremont</td>\n",
       "      <td>3346.809340</td>\n",
       "      <td>1.63</td>\n",
       "      <td>1870</td>\n",
       "      <td>3876.81</td>\n",
       "      <td>7487</td>\n",
       "      <td>7642</td>\n",
       "      <td>152197.0</td>\n",
       "      <td>225751.400203</td>\n",
       "    </tr>\n",
       "    <tr>\n",
       "      <th>3</th>\n",
       "      <td>Green River</td>\n",
       "      <td>Sweetwater</td>\n",
       "      <td>3477.361206</td>\n",
       "      <td>1.46</td>\n",
       "      <td>2113</td>\n",
       "      <td>3977.40</td>\n",
       "      <td>12515</td>\n",
       "      <td>12630</td>\n",
       "      <td>NaN</td>\n",
       "      <td>224372.001382</td>\n",
       "    </tr>\n",
       "    <tr>\n",
       "      <th>4</th>\n",
       "      <td>Worland</td>\n",
       "      <td>Washakie</td>\n",
       "      <td>1294.105755</td>\n",
       "      <td>2.18</td>\n",
       "      <td>595</td>\n",
       "      <td>1364.32</td>\n",
       "      <td>5487</td>\n",
       "      <td>5366</td>\n",
       "      <td>169000.0</td>\n",
       "      <td>201700.325919</td>\n",
       "    </tr>\n",
       "    <tr>\n",
       "      <th>5</th>\n",
       "      <td>Rawlins</td>\n",
       "      <td>Carbon</td>\n",
       "      <td>5322.661628</td>\n",
       "      <td>1.32</td>\n",
       "      <td>1307</td>\n",
       "      <td>2722.43</td>\n",
       "      <td>9259</td>\n",
       "      <td>9227</td>\n",
       "      <td>NaN</td>\n",
       "      <td>73349.567407</td>\n",
       "    </tr>\n",
       "  </tbody>\n",
       "</table>\n",
       "</div>"
      ],
      "text/plain": [
       "          City      County    Land.Area  Population.Density  \\\n",
       "0      Laramie      Albany  2513.745235                5.19   \n",
       "1      Jackson       Teton  1757.659200                2.36   \n",
       "2       Lander     Fremont  3346.809340                1.63   \n",
       "3  Green River  Sweetwater  3477.361206                1.46   \n",
       "4      Worland    Washakie  1294.105755                2.18   \n",
       "5      Rawlins      Carbon  5322.661628                1.32   \n",
       "\n",
       "   Households.with.Under.18  Total.Families  Census Population  2014 Estimate  \\\n",
       "0                      2075         4668.93              30816          32081   \n",
       "1                      1078         2313.08               9577          10449   \n",
       "2                      1870         3876.81               7487           7642   \n",
       "3                      2113         3977.40              12515          12630   \n",
       "4                       595         1364.32               5487           5366   \n",
       "5                      1307         2722.43               9259           9227   \n",
       "\n",
       "   Sum_Sale Volume of Rivals  Expected_Revenue  \n",
       "0                    76000.0     305013.881671  \n",
       "1                   182000.0     225870.823600  \n",
       "2                   152197.0     225751.400203  \n",
       "3                        NaN     224372.001382  \n",
       "4                   169000.0     201700.325919  \n",
       "5                        NaN      73349.567407  "
      ]
     },
     "execution_count": 125,
     "metadata": {},
     "output_type": "execute_result"
    }
   ],
   "source": [
    "pd.read_csv('Result.csv').head(10)"
   ]
  },
  {
   "cell_type": "markdown",
   "metadata": {},
   "source": [
    "The Table shows the cities which are statisfied all conditions from manager to open new store. In details, inthese cities, the total sales for the entire competition is less than $500,000, with a population over 4,000 people (based upon the 2014 US Census estimate), without existing stores.\n",
    "\n",
    "#### Recomendation:\n",
    "> So the city which should be chosen to open new store is **Laramie in Albany** with population based on `2014 Estimate` of 32,081 and the highest `Expected_Revenue` of \\$305,013.88. "
   ]
  }
 ],
 "metadata": {
  "celltoolbar": "Hide code",
  "hide_code_all_hidden": false,
  "hide_input": true,
  "kernelspec": {
   "display_name": "Python 3",
   "language": "python",
   "name": "python3"
  },
  "language_info": {
   "codemirror_mode": {
    "name": "ipython",
    "version": 3
   },
   "file_extension": ".py",
   "mimetype": "text/x-python",
   "name": "python",
   "nbconvert_exporter": "python",
   "pygments_lexer": "ipython3",
   "version": "3.7.6"
  }
 },
 "nbformat": 4,
 "nbformat_minor": 4
}
